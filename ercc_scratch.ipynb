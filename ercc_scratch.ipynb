{
 "cells": [
  {
   "cell_type": "code",
   "execution_count": 15,
   "metadata": {
    "collapsed": true
   },
   "outputs": [],
   "source": [
    "import pysam\n",
    "import csv\n",
    "import pandas as pd\n",
    "#pd.set_option('display.max_rows', 999)\n",
    "#pd.options.display.max_columns = None"
   ]
  },
  {
   "cell_type": "code",
   "execution_count": 11,
   "metadata": {
    "scrolled": true
   },
   "outputs": [
    {
     "name": "stdout",
     "output_type": "stream",
     "text": [
      "ERCC-00002\n",
      "ERCC-00003\n",
      "ERCC-00004\n",
      "ERCC-00009\n",
      "ERCC-00012\n",
      "ERCC-00013\n",
      "ERCC-00014\n",
      "ERCC-00016\n",
      "ERCC-00017\n",
      "ERCC-00019\n",
      "ERCC-00022\n",
      "ERCC-00024\n",
      "ERCC-00025\n",
      "ERCC-00028\n",
      "ERCC-00031\n",
      "ERCC-00033\n",
      "ERCC-00034\n",
      "ERCC-00035\n",
      "ERCC-00039\n",
      "ERCC-00040\n",
      "ERCC-00041\n",
      "ERCC-00042\n",
      "ERCC-00043\n",
      "ERCC-00044\n",
      "ERCC-00046\n",
      "ERCC-00048\n",
      "ERCC-00051\n",
      "ERCC-00053\n",
      "ERCC-00054\n",
      "ERCC-00057\n",
      "ERCC-00058\n",
      "ERCC-00059\n",
      "ERCC-00060\n",
      "ERCC-00061\n",
      "ERCC-00062\n",
      "ERCC-00067\n",
      "ERCC-00069\n",
      "ERCC-00071\n",
      "ERCC-00073\n",
      "ERCC-00074\n",
      "ERCC-00075\n",
      "ERCC-00076\n",
      "ERCC-00077\n",
      "ERCC-00078\n",
      "ERCC-00079\n",
      "ERCC-00081\n",
      "ERCC-00083\n",
      "ERCC-00084\n",
      "ERCC-00085\n",
      "ERCC-00086\n",
      "ERCC-00092\n",
      "ERCC-00095\n",
      "ERCC-00096\n",
      "ERCC-00097\n",
      "ERCC-00098\n",
      "ERCC-00099\n",
      "ERCC-00104\n",
      "ERCC-00108\n",
      "ERCC-00109\n",
      "ERCC-00111\n",
      "ERCC-00112\n",
      "ERCC-00113\n",
      "ERCC-00116\n",
      "ERCC-00117\n",
      "ERCC-00120\n",
      "ERCC-00123\n",
      "ERCC-00126\n",
      "ERCC-00130\n",
      "ERCC-00131\n",
      "ERCC-00134\n",
      "ERCC-00136\n",
      "ERCC-00137\n",
      "ERCC-00138\n",
      "ERCC-00142\n",
      "ERCC-00143\n",
      "ERCC-00144\n",
      "ERCC-00145\n",
      "ERCC-00147\n",
      "ERCC-00148\n",
      "ERCC-00150\n",
      "ERCC-00154\n",
      "ERCC-00156\n",
      "ERCC-00157\n",
      "ERCC-00158\n",
      "ERCC-00160\n",
      "ERCC-00162\n",
      "ERCC-00163\n",
      "ERCC-00164\n",
      "ERCC-00165\n",
      "ERCC-00168\n",
      "ERCC-00170\n",
      "ERCC-00171\n"
     ]
    }
   ],
   "source": [
    "ercc_l = []\n",
    "with open('hg38-plus.gtf') as hg_file:\n",
    "    read_hg = csv.reader(hg_file, delimiter='\\t')\n",
    "    for row in read_hg:\n",
    "        if 'ERCC' in row:\n",
    "            #print(row[0])\n",
    "            ercc_l.append(row[0])"
   ]
  },
  {
   "cell_type": "code",
   "execution_count": 12,
   "metadata": {
    "scrolled": true
   },
   "outputs": [
    {
     "data": {
      "text/plain": [
       "['ERCC-00002',\n",
       " 'ERCC-00003',\n",
       " 'ERCC-00004',\n",
       " 'ERCC-00009',\n",
       " 'ERCC-00012',\n",
       " 'ERCC-00013',\n",
       " 'ERCC-00014',\n",
       " 'ERCC-00016',\n",
       " 'ERCC-00017',\n",
       " 'ERCC-00019',\n",
       " 'ERCC-00022',\n",
       " 'ERCC-00024',\n",
       " 'ERCC-00025',\n",
       " 'ERCC-00028',\n",
       " 'ERCC-00031',\n",
       " 'ERCC-00033',\n",
       " 'ERCC-00034',\n",
       " 'ERCC-00035',\n",
       " 'ERCC-00039',\n",
       " 'ERCC-00040',\n",
       " 'ERCC-00041',\n",
       " 'ERCC-00042',\n",
       " 'ERCC-00043',\n",
       " 'ERCC-00044',\n",
       " 'ERCC-00046',\n",
       " 'ERCC-00048',\n",
       " 'ERCC-00051',\n",
       " 'ERCC-00053',\n",
       " 'ERCC-00054',\n",
       " 'ERCC-00057',\n",
       " 'ERCC-00058',\n",
       " 'ERCC-00059',\n",
       " 'ERCC-00060',\n",
       " 'ERCC-00061',\n",
       " 'ERCC-00062',\n",
       " 'ERCC-00067',\n",
       " 'ERCC-00069',\n",
       " 'ERCC-00071',\n",
       " 'ERCC-00073',\n",
       " 'ERCC-00074',\n",
       " 'ERCC-00075',\n",
       " 'ERCC-00076',\n",
       " 'ERCC-00077',\n",
       " 'ERCC-00078',\n",
       " 'ERCC-00079',\n",
       " 'ERCC-00081',\n",
       " 'ERCC-00083',\n",
       " 'ERCC-00084',\n",
       " 'ERCC-00085',\n",
       " 'ERCC-00086',\n",
       " 'ERCC-00092',\n",
       " 'ERCC-00095',\n",
       " 'ERCC-00096',\n",
       " 'ERCC-00097',\n",
       " 'ERCC-00098',\n",
       " 'ERCC-00099',\n",
       " 'ERCC-00104',\n",
       " 'ERCC-00108',\n",
       " 'ERCC-00109',\n",
       " 'ERCC-00111',\n",
       " 'ERCC-00112',\n",
       " 'ERCC-00113',\n",
       " 'ERCC-00116',\n",
       " 'ERCC-00117',\n",
       " 'ERCC-00120',\n",
       " 'ERCC-00123',\n",
       " 'ERCC-00126',\n",
       " 'ERCC-00130',\n",
       " 'ERCC-00131',\n",
       " 'ERCC-00134',\n",
       " 'ERCC-00136',\n",
       " 'ERCC-00137',\n",
       " 'ERCC-00138',\n",
       " 'ERCC-00142',\n",
       " 'ERCC-00143',\n",
       " 'ERCC-00144',\n",
       " 'ERCC-00145',\n",
       " 'ERCC-00147',\n",
       " 'ERCC-00148',\n",
       " 'ERCC-00150',\n",
       " 'ERCC-00154',\n",
       " 'ERCC-00156',\n",
       " 'ERCC-00157',\n",
       " 'ERCC-00158',\n",
       " 'ERCC-00160',\n",
       " 'ERCC-00162',\n",
       " 'ERCC-00163',\n",
       " 'ERCC-00164',\n",
       " 'ERCC-00165',\n",
       " 'ERCC-00168',\n",
       " 'ERCC-00170',\n",
       " 'ERCC-00171']"
      ]
     },
     "execution_count": 12,
     "metadata": {},
     "output_type": "execute_result"
    }
   ],
   "source": [
    "ercc_l"
   ]
  },
  {
   "cell_type": "code",
   "execution_count": 31,
   "metadata": {},
   "outputs": [
    {
     "name": "stdout",
     "output_type": "stream",
     "text": [
      "NS500126:647:HVHJ2BGXY:4:23605:14034:12344\t163\tERCC-00171\t37\t255\t39M36S\t=\t311\t349\tGTCTCAGGGACTATGGACGGGCACGCTAATATCAGGCTAGAGTAGGTCCGGGGGAGTTTCGTCGCGGTGACCGTA\t/AA6///////E6/E///A//EEE6EE/E///</E/EAE6//E/E/E/EEE6//E/E/EA6/A//E<//A</A//\tNH:i:1\tHI:i:1\tNM:i:2\tMD:Z:5T21C11\r\n",
      "NS500126:647:HVHJ2BGXY:4:23605:14034:12344\t83\tERCC-00171\t311\t255\t75M\t=\t37\t-349\tTAGTCGGCATCTCACAGTGACTGAAGGCTATTAAAGAGTTAGCACCCACCATTGGATGAAGCCCAGGATAAGTGA\t/EA/AAE/A/EE/EEEE6//E/AAAE/EEEEEE/EE/<EE///A//A/A666E//EE/E/E/EEEEEE//AAAAA\tNH:i:1\tHI:i:1\tNM:i:2\tMD:Z:3A14C56\r\n"
     ]
    }
   ],
   "source": [
    "# this works \n",
    "for ercc in ercc_l:\n",
    "    #! echo $ercc\n",
    "    ! samtools view G12_1001000292_S72.homo.Aligned.out.sorted.bam $ercc"
   ]
  },
  {
   "cell_type": "code",
   "execution_count": null,
   "metadata": {
    "collapsed": true
   },
   "outputs": [],
   "source": []
  }
 ],
 "metadata": {
  "kernelspec": {
   "display_name": "Python 3",
   "language": "python",
   "name": "python3"
  },
  "language_info": {
   "codemirror_mode": {
    "name": "ipython",
    "version": 3
   },
   "file_extension": ".py",
   "mimetype": "text/x-python",
   "name": "python",
   "nbconvert_exporter": "python",
   "pygments_lexer": "ipython3",
   "version": "3.6.4"
  }
 },
 "nbformat": 4,
 "nbformat_minor": 2
}
