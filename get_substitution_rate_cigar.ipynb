{
 "cells": [
  {
   "cell_type": "code",
   "execution_count": 1,
   "metadata": {
    "collapsed": true
   },
   "outputs": [],
   "source": [
    "import pandas as pd\n",
    "import os\n",
    "import csv"
   ]
  },
  {
   "cell_type": "code",
   "execution_count": 3,
   "metadata": {},
   "outputs": [
    {
     "data": {
      "text/plain": [
       "['A15_B001008_ercc_out.txt', 'B7_B001016_ercc_out.txt']"
      ]
     },
     "execution_count": 3,
     "metadata": {},
     "output_type": "execute_result"
    }
   ],
   "source": [
    "# exploring these ERCC ONLY bam files\n",
    "cwd = '/Users/lincoln.harris/code/ercc_exploration/'\n",
    "os.listdir(cwd + 'ercc_out')"
   ]
  },
  {
   "cell_type": "code",
   "execution_count": 37,
   "metadata": {
    "collapsed": true
   },
   "outputs": [],
   "source": [
    "def splitAtUpperCase(text):\n",
    "    result = \"\"\n",
    "    for char in text:\n",
    "        if char.isupper():\n",
    "            result += char + \" \"\n",
    "        else:\n",
    "            result += char\n",
    "    return result.split()"
   ]
  },
  {
   "cell_type": "code",
   "execution_count": 78,
   "metadata": {},
   "outputs": [],
   "source": [
    "# print cigar mismatches\n",
    "def get_substitution_rate(ercc_alignment_file):\n",
    "    \"\"\" returns the base substitution rate in a given ERCC only alignement file\"\"\"\n",
    "    currFile = cwd + 'ercc_out/' + ercc_alignment_file\n",
    "    numLines = 0\n",
    "    subCount = 0 \n",
    "\n",
    "    with open(currFile) as ercclines:\n",
    "        ercclines_read = csv.reader(ercclines, delimiter='\\t')\n",
    "    \n",
    "        for line in ercclines_read:\n",
    "            numLines += 1\n",
    "            cigarStr = line[5]\n",
    "        \n",
    "            if 'I' in cigarStr or 'D' in cigarStr or 'N' in cigarStr or 'X' in cigarStr:\n",
    "                cigarStrSplit = splitAtUpperCase(cigarStr)\n",
    "            \n",
    "                for item in cigarStrSplit:\n",
    "                    if 'M' not in item and 'S' not in item and 'H' not in item and 'P' not in item:\n",
    "                        rawNum = re.sub(\"\\D\", \"\", item)\n",
    "                        subCount += int(rawNum)\n",
    "                    \n",
    "    numBases = numLines * 100\n",
    "    subRate = subCount / numBases\n",
    "    \n",
    "    return(subRate)"
   ]
  },
  {
   "cell_type": "code",
   "execution_count": 79,
   "metadata": {},
   "outputs": [
    {
     "data": {
      "text/plain": [
       "0.00048304371124550255"
      ]
     },
     "execution_count": 79,
     "metadata": {},
     "output_type": "execute_result"
    }
   ],
   "source": [
    "get_substitution_rate('A3_B001008_ercc_out.txt')"
   ]
  },
  {
   "cell_type": "code",
   "execution_count": 71,
   "metadata": {},
   "outputs": [
    {
     "data": {
      "text/plain": [
       "0.00023353203048366407"
      ]
     },
     "execution_count": 71,
     "metadata": {},
     "output_type": "execute_result"
    }
   ],
   "source": [
    "get_substitution_rate('B1_B001008_ercc_out.txt')"
   ]
  },
  {
   "cell_type": "code",
   "execution_count": 72,
   "metadata": {},
   "outputs": [
    {
     "data": {
      "text/plain": [
       "0.00011539848539487919"
      ]
     },
     "execution_count": 72,
     "metadata": {},
     "output_type": "execute_result"
    }
   ],
   "source": [
    "get_substitution_rate('B2_B001016_ercc_out.txt')"
   ]
  },
  {
   "cell_type": "code",
   "execution_count": 76,
   "metadata": {},
   "outputs": [
    {
     "data": {
      "text/plain": [
       "0.0003305279815853834"
      ]
     },
     "execution_count": 76,
     "metadata": {},
     "output_type": "execute_result"
    }
   ],
   "source": [
    "get_substitution_rate('A1_B001008_ercc_out.txt')"
   ]
  },
  {
   "cell_type": "code",
   "execution_count": 77,
   "metadata": {},
   "outputs": [
    {
     "ename": "NameError",
     "evalue": "name 'get_substitution_rate' is not defined",
     "output_type": "error",
     "traceback": [
      "\u001b[0;31m---------------------------------------------------------------------------\u001b[0m",
      "\u001b[0;31mNameError\u001b[0m                                 Traceback (most recent call last)",
      "\u001b[0;32m<ipython-input-77-79cb141c0873>\u001b[0m in \u001b[0;36m<module>\u001b[0;34m()\u001b[0m\n\u001b[0;32m----> 1\u001b[0;31m \u001b[0mget_substitution_rate\u001b[0m\u001b[0;34m(\u001b[0m\u001b[0;34m'A20_B001016_ercc_out.txt'\u001b[0m\u001b[0;34m)\u001b[0m\u001b[0;34m\u001b[0m\u001b[0m\n\u001b[0m",
      "\u001b[0;31mNameError\u001b[0m: name 'get_substitution_rate' is not defined"
     ]
    }
   ],
   "source": [
    "get_substitution_rate('A20_B001016_ercc_out.txt')"
   ]
  },
  {
   "cell_type": "code",
   "execution_count": null,
   "metadata": {
    "collapsed": true
   },
   "outputs": [],
   "source": []
  }
 ],
 "metadata": {
  "kernelspec": {
   "display_name": "Python 3",
   "language": "python",
   "name": "python3"
  },
  "language_info": {
   "codemirror_mode": {
    "name": "ipython",
    "version": 3
   },
   "file_extension": ".py",
   "mimetype": "text/x-python",
   "name": "python",
   "nbconvert_exporter": "python",
   "pygments_lexer": "ipython3",
   "version": "3.6.4"
  }
 },
 "nbformat": 4,
 "nbformat_minor": 2
}
